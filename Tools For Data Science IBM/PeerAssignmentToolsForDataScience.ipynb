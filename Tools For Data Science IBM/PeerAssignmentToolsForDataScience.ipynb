{
 "cells": [
  {
   "cell_type": "markdown",
   "metadata": {},
   "source": [
    "<h5 style=\"color:green\"># Exercise 2 - Create a markdown cell with the title of the notebook</h5>"
   ]
  },
  {
   "cell_type": "markdown",
   "metadata": {},
   "source": [
    "# Data Science Tools and Ecosystem"
   ]
  },
  {
   "cell_type": "markdown",
   "metadata": {},
   "source": [
    "<h5 style=\"color:green\"># Exercise 3 - Create a markdown cell for an introduction</h5>"
   ]
  },
  {
   "cell_type": "markdown",
   "metadata": {},
   "source": [
    "## Introduction\n",
    "This notebook provides an overview of Data Science tools, languages, and libraries, along with examples of arithmetic expressions."
   ]
  },
  {
   "cell_type": "markdown",
   "metadata": {},
   "source": [
    "<h5 style=\"color:green\"># Exercise 4 - Create a markdown cell to list data science languages</h5>"
   ]
  },
  {
   "cell_type": "markdown",
   "metadata": {},
   "source": [
    "## Data Science Languages\n",
    "- Python\n",
    "- R\n",
    "- SQL\n",
    "- Julia\n",
    "- Scala\n",
    "- Java\n",
    "- C++\n",
    "- JavaScript"
   ]
  },
  {
   "cell_type": "markdown",
   "metadata": {},
   "source": [
    "<h5 style=\"color:green\"># Exercise 5 - Create a markdown cell to list data science libraries</h5>"
   ]
  },
  {
   "cell_type": "markdown",
   "metadata": {},
   "source": [
    "## Data Science Libraries\n",
    "1.   NumPy\n",
    "2.   Pandas\n",
    "3.   Matplotlib\n",
    "4.   Seaborn\n",
    "5.   Scikit-learn\n",
    "6.   TensorFlow\n",
    "7.   PyTorch\n",
    "8.   Keras\n",
    "9.   Statsmodels\n",
    "10.  XGBoost"
   ]
  },
  {
   "cell_type": "markdown",
   "metadata": {},
   "source": [
    "<h5 style=\"color:green\"># Exercise 6 - Create a markdown cell with a table of Data Science tools</h5>"
   ]
  },
  {
   "cell_type": "markdown",
   "metadata": {},
   "source": [
    "## Data Science Tools\n",
    "\n",
    "| Tool              | Description |\n",
    "|------------------|-------------|\n",
    "| Jupyter Notebook | Interactive computing |\n",
    "| RStudio         | IDE for R programming |\n",
    "| Apache Spark    | Big data processing |\n",
    "| Hadoop         | Distributed storage and processing |\n",
    "| Tableau        | Data visualization |"
   ]
  },
  {
   "cell_type": "markdown",
   "metadata": {},
   "source": [
    "<h5 style=\"color:green\"># Exercise 7 - Create a markdown cell introducing arithmetic expression examples</h5>"
   ]
  },
  {
   "cell_type": "markdown",
   "metadata": {},
   "source": [
    "## Arithmetic Expression Examples\n",
    "Below are some basic arithmetic operations such as addition, multiplication, and division."
   ]
  },
  {
   "cell_type": "markdown",
   "metadata": {},
   "source": [
    "<h5 style=\"color:green\"># Exercise 8 - Create a code cell to multiply and add numbers</h5>"
   ]
  },
  {
   "cell_type": "code",
   "execution_count": 1,
   "metadata": {},
   "outputs": [
    {
     "name": "stdout",
     "output_type": "stream",
     "text": [
      "17\n"
     ]
    }
   ],
   "source": [
    "# Multiplication and addition\n",
    "\n",
    "result = (3 * 4) + 5\n",
    "print(result)"
   ]
  },
  {
   "cell_type": "markdown",
   "metadata": {},
   "source": [
    "<h5 style=\"color:green\"># Exercise 9 - Create a code cell to convert minutes to hours</h5>"
   ]
  },
  {
   "cell_type": "code",
   "execution_count": 2,
   "metadata": {},
   "outputs": [
    {
     "name": "stdout",
     "output_type": "stream",
     "text": [
      "3.3333333333333335\n"
     ]
    }
   ],
   "source": [
    "# Convert minutes to hours\n",
    "minutes = 200\n",
    "hours = minutes / 60\n",
    "print(hours)"
   ]
  },
  {
   "cell_type": "markdown",
   "metadata": {},
   "source": [
    "<h5 style=\"color:green\"># Exercise 10 - Insert a markdown cell to list Objectives</h5>"
   ]
  },
  {
   "cell_type": "markdown",
   "metadata": {},
   "source": [
    "## Objectives\n",
    "- List popular data science languages\n",
    "- Identify key data science libraries\n",
    "- Provide examples of arithmetic expressions\n",
    "- Understand how to use markdown and code cells in Jupyter Notebook"
   ]
  },
  {
   "cell_type": "markdown",
   "metadata": {},
   "source": [
    "<h5 style=\"color:green\"># Exercise 11 - Create a markdown cell to indicate the Author’s name</h5>"
   ]
  },
  {
   "cell_type": "markdown",
   "metadata": {},
   "source": [
    "## Author\n",
    "Tetiana Strelnikova"
   ]
  }
 ],
 "metadata": {
  "kernelspec": {
   "display_name": "ToolsForDataScienceIBM",
   "language": "python",
   "name": "python3"
  },
  "language_info": {
   "codemirror_mode": {
    "name": "ipython",
    "version": 3
   },
   "file_extension": ".py",
   "mimetype": "text/x-python",
   "name": "python",
   "nbconvert_exporter": "python",
   "pygments_lexer": "ipython3",
   "version": "3.12.8"
  }
 },
 "nbformat": 4,
 "nbformat_minor": 2
}
